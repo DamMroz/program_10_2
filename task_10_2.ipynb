{
 "cells": [
  {
   "cell_type": "markdown",
   "id": "31d0fc00",
   "metadata": {},
   "source": [
    "# Import modules"
   ]
  },
  {
   "cell_type": "code",
   "execution_count": 29,
   "id": "9e55ba01",
   "metadata": {},
   "outputs": [],
   "source": [
    "import numpy as np\n",
    "import pandas as pd\n",
    "import matplotlib.pyplot as plt\n",
    "from scipy import stats"
   ]
  },
  {
   "cell_type": "markdown",
   "id": "b60532fc",
   "metadata": {},
   "source": [
    "# Generating data with lower and upper bound"
   ]
  },
  {
   "cell_type": "code",
   "execution_count": 30,
   "id": "0dcc2a4e",
   "metadata": {},
   "outputs": [],
   "source": [
    "mu, sigma = 3, 1 \n",
    "def normal(mu, sigma, size, lower = -np.inf, upper = np.inf):\n",
    "    dist= np.random.normal(mu, sigma, size)\n",
    "    return dist\n",
    "\n",
    "data_1 = normal(mu,sigma,100)\n",
    "data_2 = normal(mu,sigma,1000)\n",
    "data_3 = normal(mu,sigma,10000)"
   ]
  },
  {
   "cell_type": "markdown",
   "id": "df4c25f5",
   "metadata": {},
   "source": [
    "# Statistical analysis"
   ]
  },
  {
   "cell_type": "code",
   "execution_count": 31,
   "id": "6bd8de0c",
   "metadata": {},
   "outputs": [
    {
     "name": "stdout",
     "output_type": "stream",
     "text": [
      "mean data_1: 3.190543309175293\n",
      "mean data_2: 3.012075782737554\n",
      "mean data_3: 3.0020685075426\n"
     ]
    }
   ],
   "source": [
    "mean_1 = np.mean(data_1)\n",
    "mean_2 = np.mean(data_2)\n",
    "mean_3 = np.mean(data_3)\n",
    "print(f\"mean data_1: {mean_1}\")\n",
    "print(f\"mean data_2: {mean_2}\")\n",
    "print(f\"mean data_3: {mean_3}\")"
   ]
  },
  {
   "cell_type": "markdown",
   "id": "084eb48d",
   "metadata": {},
   "source": [
    "### The mean is quite close to 3. The data sets with more data points are closer to the desired value, which is not surprising."
   ]
  },
  {
   "cell_type": "code",
   "execution_count": 32,
   "id": "f548462a",
   "metadata": {},
   "outputs": [
    {
     "name": "stdout",
     "output_type": "stream",
     "text": [
      "median data_1: 3.2029473016980132\n",
      "median data_2: 3.0304477474055203\n",
      "median data_3: 2.99643786219648\n"
     ]
    }
   ],
   "source": [
    "median_1 = np.median(data_1)\n",
    "median_2 = np.median(data_2)\n",
    "median_3 = np.median(data_3)\n",
    "print(f\"median data_1: {median_1}\")\n",
    "print(f\"median data_2: {median_2}\")\n",
    "print(f\"median data_3: {median_3}\")"
   ]
  },
  {
   "cell_type": "markdown",
   "id": "813409a9",
   "metadata": {},
   "source": [
    "### The median is very similar for the data sets with more data points."
   ]
  },
  {
   "cell_type": "code",
   "execution_count": 33,
   "id": "f683c190",
   "metadata": {},
   "outputs": [
    {
     "data": {
      "text/plain": [
       "(ModeResult(mode=0.5898639229808773, count=1),\n",
       " ModeResult(mode=-0.08497356322807637, count=1),\n",
       " ModeResult(mode=-1.040131987059909, count=1))"
      ]
     },
     "execution_count": 33,
     "metadata": {},
     "output_type": "execute_result"
    }
   ],
   "source": [
    "stats.mode(data_1),stats.mode(data_2),stats.mode(data_3)"
   ]
  },
  {
   "cell_type": "markdown",
   "id": "cdd27fb2",
   "metadata": {},
   "source": [
    "### The count for the mode is 1 in all cases, because the data comes from a continous distribution. Furthermore, the data sets with more data points have lower starting values due to using a wider available range."
   ]
  },
  {
   "cell_type": "code",
   "execution_count": 34,
   "id": "9fd6794c",
   "metadata": {},
   "outputs": [
    {
     "name": "stdout",
     "output_type": "stream",
     "text": [
      " q0 data_1: 0.5898639229808773\n",
      " q1 data_1: 2.3893228410704492\n",
      " q3 data_1: 3.814873959474063\n",
      " q4 data_1: 5.830030129616279\n",
      " q0 data_2: -0.08497356322807637\n",
      " q1 data_2: 2.3407030951403343\n",
      " q3 data_2: 3.676836771716551\n",
      " q4 data_2: 6.373507728842229\n",
      " q0 data_3: -1.040131987059909\n",
      " q1 data_3: 2.335323986902663\n",
      " q3 data_3: 3.6617376266634554\n",
      " q4 data_3: 6.578889023467152\n"
     ]
    }
   ],
   "source": [
    "q0_data_1 = np.quantile(data_1, 0.0)\n",
    "q1_data_1 = np.quantile(data_1, 0.25)\n",
    "q3_data_1 = np.quantile(data_1, 0.75)\n",
    "q4_data_1 = np.quantile(data_1, 1.0)\n",
    "q0_data_2 = np.quantile(data_2, 0.0)\n",
    "q1_data_2 = np.quantile(data_2, 0.25)\n",
    "q3_data_2 = np.quantile(data_2, 0.75)\n",
    "q4_data_2 = np.quantile(data_2, 1.0)\n",
    "q0_data_3 = np.quantile(data_3, 0.0)\n",
    "q1_data_3 = np.quantile(data_3, 0.25)\n",
    "q3_data_3 = np.quantile(data_3, 0.75)\n",
    "q4_data_3 = np.quantile(data_3, 1.0)\n",
    "print(f\" q0 data_1: {q0_data_1}\")\n",
    "print(f\" q1 data_1: {q1_data_1}\")\n",
    "print(f\" q3 data_1: {q3_data_1}\")\n",
    "print(f\" q4 data_1: {q4_data_1}\")\n",
    "print(f\" q0 data_2: {q0_data_2}\")\n",
    "print(f\" q1 data_2: {q1_data_2}\")\n",
    "print(f\" q3 data_2: {q3_data_2}\")\n",
    "print(f\" q4 data_2: {q4_data_2}\")\n",
    "print(f\" q0 data_3: {q0_data_3}\")\n",
    "print(f\" q1 data_3: {q1_data_3}\")\n",
    "print(f\" q3 data_3: {q3_data_3}\")\n",
    "print(f\" q4 data_3: {q4_data_3}\")"
   ]
  },
  {
   "cell_type": "markdown",
   "id": "615f2b33",
   "metadata": {},
   "source": [
    "### The main difference is the value of the maximum q4. The data sets with more data points reach higher values, which is also not surprising."
   ]
  },
  {
   "cell_type": "code",
   "execution_count": 35,
   "id": "bb5297c5",
   "metadata": {},
   "outputs": [
    {
     "name": "stdout",
     "output_type": "stream",
     "text": [
      "range data_1: 5.2401662066354024\n",
      "range data_2: 6.458481292070306\n",
      "range data_3: 7.619021010527061\n"
     ]
    }
   ],
   "source": [
    "range_1 = max(data_1) - min(data_1)\n",
    "range_2 = max(data_2) - min(data_2)\n",
    "range_3 = max(data_3) - min(data_3)\n",
    "print(f\"range data_1: {range_1}\")\n",
    "print(f\"range data_2: {range_2}\")\n",
    "print(f\"range data_3: {range_3}\")"
   ]
  },
  {
   "cell_type": "markdown",
   "id": "8027036a",
   "metadata": {},
   "source": [
    "### This is also reflected in the range. The data sets with more data points show a larger range."
   ]
  },
  {
   "cell_type": "code",
   "execution_count": 36,
   "id": "06933f5b",
   "metadata": {},
   "outputs": [
    {
     "name": "stdout",
     "output_type": "stream",
     "text": [
      "iqr data_1: 1.4255511184036136\n",
      "iqr data_2: 1.3361336765762166\n",
      "iqr data_3: 1.3264136397607924\n"
     ]
    }
   ],
   "source": [
    "iqr_1 = q3_data_1 - q1_data_1\n",
    "iqr_2 = q3_data_2 - q1_data_2\n",
    "iqr_3 = q3_data_3 - q1_data_3\n",
    "print(f\"iqr data_1: {iqr_1}\")\n",
    "print(f\"iqr data_2: {iqr_2}\")\n",
    "print(f\"iqr data_3: {iqr_3}\")"
   ]
  },
  {
   "cell_type": "markdown",
   "id": "d56870d9",
   "metadata": {},
   "source": [
    "### The difference of the first and third quartile is larger for the data set with the smallest amount of data points."
   ]
  },
  {
   "cell_type": "code",
   "execution_count": 37,
   "id": "1a1fa009",
   "metadata": {},
   "outputs": [],
   "source": [
    "variance_1 = np.var(data_1, ddof=1)\n",
    "variance_2 = np.var(data_2, ddof=1)\n",
    "variance_3 = np.var(data_3, ddof=1)"
   ]
  },
  {
   "cell_type": "code",
   "execution_count": 38,
   "id": "0a51fc1e",
   "metadata": {},
   "outputs": [
    {
     "name": "stdout",
     "output_type": "stream",
     "text": [
      "variance data_1: 1.1738166299802788\n",
      "variance data_2: 0.976367765027452\n",
      "variance data_3: 0.990748354533231\n"
     ]
    }
   ],
   "source": [
    "print(f\"variance data_1: {variance_1}\")\n",
    "print(f\"variance data_2: {variance_2}\")\n",
    "print(f\"variance data_3: {variance_3}\")"
   ]
  },
  {
   "cell_type": "markdown",
   "id": "484657e0",
   "metadata": {},
   "source": [
    "### The variance for the larger data sets is closer to the desired value."
   ]
  },
  {
   "cell_type": "code",
   "execution_count": 39,
   "id": "28028917",
   "metadata": {},
   "outputs": [],
   "source": [
    "std_1 = np.std(data_1, ddof=1)\n",
    "std_2 = np.std(data_2, ddof=1)\n",
    "std_3 = np.std(data_3, ddof=1)"
   ]
  },
  {
   "cell_type": "code",
   "execution_count": 40,
   "id": "f09fa860",
   "metadata": {},
   "outputs": [
    {
     "name": "stdout",
     "output_type": "stream",
     "text": [
      "std data_1: 1.0834281840437228\n",
      "std data_2: 0.9881132349217129\n",
      "std data_3: 0.9953634283683679\n"
     ]
    }
   ],
   "source": [
    "print(f\"std data_1: {std_1}\")\n",
    "print(f\"std data_2: {std_2}\")\n",
    "print(f\"std data_3: {std_3}\")"
   ]
  },
  {
   "cell_type": "markdown",
   "id": "b0f5b603",
   "metadata": {},
   "source": [
    "### The same is true for the standard deviations."
   ]
  },
  {
   "cell_type": "code",
   "execution_count": 41,
   "id": "d51b8e3e",
   "metadata": {},
   "outputs": [],
   "source": [
    "skew_1 = stats.skew(data_1)\n",
    "skew_2 = stats.skew(data_2)\n",
    "skew_3 = stats.skew(data_3)"
   ]
  },
  {
   "cell_type": "code",
   "execution_count": 42,
   "id": "79fccaba",
   "metadata": {},
   "outputs": [
    {
     "name": "stdout",
     "output_type": "stream",
     "text": [
      "skew data_1: 0.06073146315113005\n",
      "skew data_2: 0.018805108816393863\n",
      "skew data_3: 0.0382279901212806\n"
     ]
    }
   ],
   "source": [
    "print(f\"skew data_1: {skew_1}\")\n",
    "print(f\"skew data_2: {skew_2}\")\n",
    "print(f\"skew data_3: {skew_3}\")"
   ]
  },
  {
   "cell_type": "markdown",
   "id": "12188a44",
   "metadata": {},
   "source": [
    "### The skew is the largest for the smallest data set, reflecting the imperfections for a small number of points."
   ]
  }
 ],
 "metadata": {
  "kernelspec": {
   "display_name": "Python 3 (ipykernel)",
   "language": "python",
   "name": "python3"
  },
  "language_info": {
   "codemirror_mode": {
    "name": "ipython",
    "version": 3
   },
   "file_extension": ".py",
   "mimetype": "text/x-python",
   "name": "python",
   "nbconvert_exporter": "python",
   "pygments_lexer": "ipython3",
   "version": "3.11.7"
  }
 },
 "nbformat": 4,
 "nbformat_minor": 5
}
