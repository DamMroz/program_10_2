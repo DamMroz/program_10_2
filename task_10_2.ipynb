{
 "cells": [
  {
   "cell_type": "markdown",
   "id": "31d0fc00",
   "metadata": {},
   "source": [
    "# Import modules"
   ]
  },
  {
   "cell_type": "code",
   "execution_count": 197,
   "id": "9e55ba01",
   "metadata": {},
   "outputs": [],
   "source": [
    "import numpy as np\n",
    "import pandas as pd\n",
    "import matplotlib.pyplot as plt\n",
    "from scipy import stats"
   ]
  },
  {
   "cell_type": "markdown",
   "id": "b60532fc",
   "metadata": {},
   "source": [
    "# Generating data"
   ]
  },
  {
   "cell_type": "code",
   "execution_count": 198,
   "id": "0dcc2a4e",
   "metadata": {},
   "outputs": [],
   "source": [
    "mu, sigma = 3, 1 \n",
    "def normal(mu, sigma, size, lower = -np.inf, upper = np.inf):\n",
    "    dist= np.random.normal(mu, sigma, size)\n",
    "    return dist\n",
    "\n",
    "data_1 = normal(mu,sigma,100)\n",
    "data_2 = normal(mu,sigma,1000)\n",
    "data_3 = normal(mu,sigma,10000)"
   ]
  },
  {
   "cell_type": "markdown",
   "id": "df4c25f5",
   "metadata": {},
   "source": [
    "# Statistical analysis"
   ]
  },
  {
   "cell_type": "code",
   "execution_count": 199,
   "id": "6bd8de0c",
   "metadata": {},
   "outputs": [
    {
     "name": "stdout",
     "output_type": "stream",
     "text": [
      "mean data_1: 2.8718457735966982\n",
      "mean data_2: 2.9625094661157307\n",
      "mean data_3: 2.999897055674959\n"
     ]
    }
   ],
   "source": [
    "mean_1 = np.mean(data_1)\n",
    "mean_2 = np.mean(data_2)\n",
    "mean_3 = np.mean(data_3)\n",
    "print(f\"mean data_1: {mean_1}\")\n",
    "print(f\"mean data_2: {mean_2}\")\n",
    "print(f\"mean data_3: {mean_3}\")"
   ]
  },
  {
   "cell_type": "markdown",
   "id": "084eb48d",
   "metadata": {},
   "source": [
    "### The mean is quite close to 3. The data sets with more data points are closer to the desired value, which is not surprising."
   ]
  },
  {
   "cell_type": "code",
   "execution_count": 200,
   "id": "f548462a",
   "metadata": {},
   "outputs": [
    {
     "name": "stdout",
     "output_type": "stream",
     "text": [
      "median data_1: 2.838053640887441\n",
      "median data_2: 2.9431884733225475\n",
      "median data_3: 2.9888404299754363\n"
     ]
    }
   ],
   "source": [
    "median_1 = np.median(data_1)\n",
    "median_2 = np.median(data_2)\n",
    "median_3 = np.median(data_3)\n",
    "print(f\"median data_1: {median_1}\")\n",
    "print(f\"median data_2: {median_2}\")\n",
    "print(f\"median data_3: {median_3}\")"
   ]
  },
  {
   "cell_type": "markdown",
   "id": "813409a9",
   "metadata": {},
   "source": [
    "### The median is very similar for the data sets with more data points."
   ]
  },
  {
   "cell_type": "code",
   "execution_count": 201,
   "id": "f683c190",
   "metadata": {},
   "outputs": [
    {
     "data": {
      "text/plain": [
       "(ModeResult(mode=-0.03193041151745968, count=1),\n",
       " ModeResult(mode=-0.045927166799357266, count=1),\n",
       " ModeResult(mode=-0.5923074772558081, count=1))"
      ]
     },
     "execution_count": 201,
     "metadata": {},
     "output_type": "execute_result"
    }
   ],
   "source": [
    "stats.mode(data_1),stats.mode(data_2),stats.mode(data_3)"
   ]
  },
  {
   "cell_type": "markdown",
   "id": "cdd27fb2",
   "metadata": {},
   "source": [
    "### The count for the mode is 1 in all cases, because the data comes from a continous distribution. Furthermore, the data sets with more data points have lower starting values due to using a wider available range."
   ]
  },
  {
   "cell_type": "code",
   "execution_count": 202,
   "id": "9fd6794c",
   "metadata": {},
   "outputs": [
    {
     "name": "stdout",
     "output_type": "stream",
     "text": [
      " q0 data_1: -0.03193041151745968\n",
      " q1 data_1: 2.2279452197525904\n",
      " q3 data_1: 3.56370059602341\n",
      " q4 data_1: 5.5520035252817195\n",
      " q0 data_2: -0.045927166799357266\n",
      " q1 data_2: 2.319556398799892\n",
      " q3 data_2: 3.6166793486722892\n",
      " q4 data_2: 6.575192289021015\n",
      " q0 data_3: -0.5923074772558081\n",
      " q1 data_3: 2.3257090283730433\n",
      " q3 data_3: 3.667896614667841\n",
      " q4 data_3: 6.958725219854904\n"
     ]
    }
   ],
   "source": [
    "q0_data_1 = np.quantile(data_1, 0.0)\n",
    "q1_data_1 = np.quantile(data_1, 0.25)\n",
    "q3_data_1 = np.quantile(data_1, 0.75)\n",
    "q4_data_1 = np.quantile(data_1, 1.0)\n",
    "q0_data_2 = np.quantile(data_2, 0.0)\n",
    "q1_data_2 = np.quantile(data_2, 0.25)\n",
    "q3_data_2 = np.quantile(data_2, 0.75)\n",
    "q4_data_2 = np.quantile(data_2, 1.0)\n",
    "q0_data_3 = np.quantile(data_3, 0.0)\n",
    "q1_data_3 = np.quantile(data_3, 0.25)\n",
    "q3_data_3 = np.quantile(data_3, 0.75)\n",
    "q4_data_3 = np.quantile(data_3, 1.0)\n",
    "print(f\" q0 data_1: {q0_data_1}\")\n",
    "print(f\" q1 data_1: {q1_data_1}\")\n",
    "print(f\" q3 data_1: {q3_data_1}\")\n",
    "print(f\" q4 data_1: {q4_data_1}\")\n",
    "print(f\" q0 data_2: {q0_data_2}\")\n",
    "print(f\" q1 data_2: {q1_data_2}\")\n",
    "print(f\" q3 data_2: {q3_data_2}\")\n",
    "print(f\" q4 data_2: {q4_data_2}\")\n",
    "print(f\" q0 data_3: {q0_data_3}\")\n",
    "print(f\" q1 data_3: {q1_data_3}\")\n",
    "print(f\" q3 data_3: {q3_data_3}\")\n",
    "print(f\" q4 data_3: {q4_data_3}\")"
   ]
  },
  {
   "cell_type": "markdown",
   "id": "615f2b33",
   "metadata": {},
   "source": [
    "### The main difference is the value of the maximum q4. The data sets with more data points reach higher values, which is also not surprising."
   ]
  },
  {
   "cell_type": "code",
   "execution_count": 203,
   "id": "bb5297c5",
   "metadata": {},
   "outputs": [
    {
     "name": "stdout",
     "output_type": "stream",
     "text": [
      "range data_1: 5.583933936799179\n",
      "range data_2: 6.621119455820372\n",
      "range data_3: 7.5510326971107125\n"
     ]
    }
   ],
   "source": [
    "range_1 = max(data_1) - min(data_1)\n",
    "range_2 = max(data_2) - min(data_2)\n",
    "range_3 = max(data_3) - min(data_3)\n",
    "print(f\"range data_1: {range_1}\")\n",
    "print(f\"range data_2: {range_2}\")\n",
    "print(f\"range data_3: {range_3}\")"
   ]
  },
  {
   "cell_type": "markdown",
   "id": "8027036a",
   "metadata": {},
   "source": [
    "### This is also reflected in the range. The data sets with more data points show a larger range."
   ]
  },
  {
   "cell_type": "code",
   "execution_count": 204,
   "id": "06933f5b",
   "metadata": {},
   "outputs": [
    {
     "name": "stdout",
     "output_type": "stream",
     "text": [
      "iqr data_1: 1.3357553762708196\n",
      "iqr data_2: 1.297122949872397\n",
      "iqr data_3: 1.3421875862947976\n"
     ]
    }
   ],
   "source": [
    "iqr_1 = q3_data_1 - q1_data_1\n",
    "iqr_2 = q3_data_2 - q1_data_2\n",
    "iqr_3 = q3_data_3 - q1_data_3\n",
    "print(f\"iqr data_1: {iqr_1}\")\n",
    "print(f\"iqr data_2: {iqr_2}\")\n",
    "print(f\"iqr data_3: {iqr_3}\")"
   ]
  },
  {
   "cell_type": "markdown",
   "id": "d56870d9",
   "metadata": {},
   "source": [
    "### The difference between the third and first quartile is quite similar for the three data sets."
   ]
  },
  {
   "cell_type": "code",
   "execution_count": 205,
   "id": "1a1fa009",
   "metadata": {},
   "outputs": [],
   "source": [
    "variance_1 = np.var(data_1, ddof=1)\n",
    "variance_2 = np.var(data_2, ddof=1)\n",
    "variance_3 = np.var(data_3, ddof=1)"
   ]
  },
  {
   "cell_type": "code",
   "execution_count": 206,
   "id": "0a51fc1e",
   "metadata": {},
   "outputs": [
    {
     "name": "stdout",
     "output_type": "stream",
     "text": [
      "variance data_1: 1.1576254467489204\n",
      "variance data_2: 0.9643114874538787\n",
      "variance data_3: 0.9936064737706433\n"
     ]
    }
   ],
   "source": [
    "print(f\"variance data_1: {variance_1}\")\n",
    "print(f\"variance data_2: {variance_2}\")\n",
    "print(f\"variance data_3: {variance_3}\")"
   ]
  },
  {
   "cell_type": "markdown",
   "id": "484657e0",
   "metadata": {},
   "source": [
    "### The variance for the larger data sets is closer to the desired value."
   ]
  },
  {
   "cell_type": "code",
   "execution_count": 207,
   "id": "28028917",
   "metadata": {},
   "outputs": [],
   "source": [
    "std_1 = np.std(data_1, ddof=1)\n",
    "std_2 = np.std(data_2, ddof=1)\n",
    "std_3 = np.std(data_3, ddof=1)"
   ]
  },
  {
   "cell_type": "code",
   "execution_count": 208,
   "id": "f09fa860",
   "metadata": {},
   "outputs": [
    {
     "name": "stdout",
     "output_type": "stream",
     "text": [
      "std data_1: 1.0759300380363588\n",
      "std data_2: 0.9819936290291698\n",
      "std data_3: 0.9967981108382195\n"
     ]
    }
   ],
   "source": [
    "print(f\"std data_1: {std_1}\")\n",
    "print(f\"std data_2: {std_2}\")\n",
    "print(f\"std data_3: {std_3}\")"
   ]
  },
  {
   "cell_type": "markdown",
   "id": "b0f5b603",
   "metadata": {},
   "source": [
    "### The same is true for the standard deviations."
   ]
  },
  {
   "cell_type": "code",
   "execution_count": 209,
   "id": "d51b8e3e",
   "metadata": {},
   "outputs": [],
   "source": [
    "skew_1 = stats.skew(data_1)\n",
    "skew_2 = stats.skew(data_2)\n",
    "skew_3 = stats.skew(data_3)"
   ]
  },
  {
   "cell_type": "code",
   "execution_count": 210,
   "id": "79fccaba",
   "metadata": {},
   "outputs": [
    {
     "name": "stdout",
     "output_type": "stream",
     "text": [
      "skew data_1: -0.12519702215626924\n",
      "skew data_2: 0.05948190629790866\n",
      "skew data_3: 0.04674485836843171\n"
     ]
    }
   ],
   "source": [
    "print(f\"skew data_1: {skew_1}\")\n",
    "print(f\"skew data_2: {skew_2}\")\n",
    "print(f\"skew data_3: {skew_3}\")"
   ]
  },
  {
   "cell_type": "markdown",
   "id": "12188a44",
   "metadata": {},
   "source": [
    "### The skew is the largest for the smallest data set, reflecting the imperfections for a small number of points."
   ]
  }
 ],
 "metadata": {
  "kernelspec": {
   "display_name": "Python 3 (ipykernel)",
   "language": "python",
   "name": "python3"
  },
  "language_info": {
   "codemirror_mode": {
    "name": "ipython",
    "version": 3
   },
   "file_extension": ".py",
   "mimetype": "text/x-python",
   "name": "python",
   "nbconvert_exporter": "python",
   "pygments_lexer": "ipython3",
   "version": "3.11.7"
  }
 },
 "nbformat": 4,
 "nbformat_minor": 5
}
